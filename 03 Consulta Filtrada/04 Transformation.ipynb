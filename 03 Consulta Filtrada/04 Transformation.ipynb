{
 "cells": [
  {
   "cell_type": "code",
   "execution_count": 9,
   "metadata": {},
   "outputs": [],
   "source": [
    "# Librerías a importar\n",
    "from pyspark.sql import SparkSession\n",
    "from pyspark.sql.functions import col # Función que nos sirve para seleccionar columnas"
   ]
  },
  {
   "cell_type": "code",
   "execution_count": 10,
   "metadata": {},
   "outputs": [],
   "source": [
    "# Crear la sesión de spark\n",
    "spark = SparkSession  \\\n",
    "    .builder \\\n",
    "    .appName(\"La cantidad de libros vendidos\") \\\n",
    "    .config('spark.driver.extraClassPath', \"mysql-connector-j-8.0.32.jar\") \\\n",
    "    .getOrCreate()\n",
    "\n",
    "# Propiedades para la conexión usando spark jdbc\n",
    "url = \"jdbc:mysql://localhost:3306/libreria\"\n",
    "propiedades = {\n",
    "    \"driver\": \"com.mysql.cj.jdbc.Driver\",\n",
    "    \"user\": \"root\",\n",
    "    \"password\": \"tooR\"\n",
    "}"
   ]
  },
  {
   "cell_type": "code",
   "execution_count": 13,
   "metadata": {},
   "outputs": [
    {
     "name": "stdout",
     "output_type": "stream",
     "text": [
      "+--------+-------------+\n",
      "|id_libro|sum(cantidad)|\n",
      "+--------+-------------+\n",
      "|      31|            3|\n",
      "|      34|            8|\n",
      "|      28|           15|\n",
      "|      27|            3|\n",
      "|      26|            5|\n",
      "|      44|            5|\n",
      "|      12|           10|\n",
      "|      22|            6|\n",
      "|      47|           10|\n",
      "|       1|           10|\n",
      "|      13|           10|\n",
      "|       6|            7|\n",
      "|      16|            9|\n",
      "|       3|            4|\n",
      "|      40|            3|\n",
      "|      20|            4|\n",
      "|       5|            5|\n",
      "|      19|            3|\n",
      "|      41|            2|\n",
      "|      43|            5|\n",
      "+--------+-------------+\n",
      "only showing top 20 rows\n",
      "\n"
     ]
    }
   ],
   "source": [
    "# Leemos la tabla detalle_factura de la base de datos librería, acá está la información de la cantidad vendida.\n",
    "detalle_factura_df = spark.read.jdbc(\n",
    "    url=url, table=\"detalle_factura\", properties=propiedades)\n",
    "\n",
    "# Agrupamos la cantidad de ventas por el id del libro\n",
    "cantidad_libros_vendidos_df = detalle_factura_df.groupBy(\"id_libro\").sum(\"cantidad\")\n",
    "\n",
    "# Mostramos la cantidad de libros vendidos por el id del libro\n",
    "cantidad_libros_vendidos_df.show()"
   ]
  },
  {
   "cell_type": "code",
   "execution_count": 12,
   "metadata": {},
   "outputs": [
    {
     "name": "stdout",
     "output_type": "stream",
     "text": [
      "+--------------------+----------+-----------------+\n",
      "|              titulo|puntuacion|cantidad_vendidos|\n",
      "+--------------------+----------+-----------------+\n",
      "|Amigo de los perd...|      2.75|                2|\n",
      "|    Honor del océano|      4.17|                2|\n",
      "|  Enemigos con vigor|      3.50|                2|\n",
      "|     Paz a la nación|      2.00|                2|\n",
      "|Canciones de mi f...|      4.84|                3|\n",
      "|Defensores y hombres|      1.18|                3|\n",
      "|  Unidad de grandeza|      2.33|                3|\n",
      "| Perros de esperanza|      2.08|                3|\n",
      "|       Raíz de plata|      4.72|                3|\n",
      "|     Héroes del ayer|      1.45|                3|\n",
      "|      León del dolor|      2.76|                4|\n",
      "| Gritos en mi pasado|      2.29|                4|\n",
      "| Aquel primer verano|      4.17|                4|\n",
      "| Señales en el norte|      4.20|                4|\n",
      "|     Amigo de la luz|      3.98|                4|\n",
      "|Ascendencia de lo...|      2.05|                5|\n",
      "|     Ayudando al sol|      2.20|                5|\n",
      "|Piratas de la fel...|      3.92|                5|\n",
      "|   La vida en el rey|      4.02|                5|\n",
      "|Creadores y hered...|      1.31|                5|\n",
      "+--------------------+----------+-----------------+\n",
      "only showing top 20 rows\n",
      "\n"
     ]
    }
   ],
   "source": [
    "\n",
    "\n",
    "# Leemos la tabla libro de la base de datos librería\n",
    "libro_df = spark.read.jdbc(url=url, table=\"libro\", properties=propiedades)\n",
    "\n",
    "# Unimos el dataframe cantidad_libros_vendidos_df con la tabla de libro por medio del id del libro\n",
    "cantidad_libros_vendidos_df = cantidad_libros_vendidos_df.join(\n",
    "    libro_df,\n",
    "    libro_df.id == cantidad_libros_vendidos_df.id_libro)\n",
    "\n",
    "# Seleccionamos solo la información necesaria: título, puntación y cantidad vendida.\n",
    "cantidad_libros_vendidos_df = cantidad_libros_vendidos_df.select(\n",
    "    col(\"titulo\"),\n",
    "    col(\"puntuacion\"),\n",
    "    col(\"sum(cantidad)\").alias(\"cantidad_vendidos\")\n",
    ").orderBy(\"cantidad_vendidos\", ascending=True)\n",
    "\n",
    "# Mostramos el dataframe cantidad_libros_vendidos_df\n",
    "cantidad_libros_vendidos_df.show()"
   ]
  }
 ],
 "metadata": {
  "kernelspec": {
   "display_name": "Python 3",
   "language": "python",
   "name": "python3"
  },
  "language_info": {
   "codemirror_mode": {
    "name": "ipython",
    "version": 3
   },
   "file_extension": ".py",
   "mimetype": "text/x-python",
   "name": "python",
   "nbconvert_exporter": "python",
   "pygments_lexer": "ipython3",
   "version": "3.11.2"
  }
 },
 "nbformat": 4,
 "nbformat_minor": 2
}
