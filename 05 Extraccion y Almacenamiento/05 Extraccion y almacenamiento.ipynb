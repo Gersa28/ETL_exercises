{
 "cells": [
  {
   "cell_type": "code",
   "execution_count": 1,
   "metadata": {},
   "outputs": [],
   "source": [
    "# Extracción de Id, nombre y cantidad de facturas de cada cliente.\n",
    "# Almacenamiento de la información extraída en una nueva tabla.\n",
    "\n",
    "# Librerías a importar\n",
    "from pyspark.sql import SparkSession\n",
    "from pyspark.sql.functions import col"
   ]
  },
  {
   "cell_type": "code",
   "execution_count": 2,
   "metadata": {},
   "outputs": [],
   "source": [
    "# Crear la sesión de spark\n",
    "spark = SparkSession  \\\n",
    "    .builder \\\n",
    "    .appName(\"La cantidad facturas por cliente\") \\\n",
    "    .config('spark.driver.extraClassPath', \"mysql-connector-j-8.0.32.jar\") \\\n",
    "    .getOrCreate()\n",
    "\n",
    "# Propiedades para la conexión usando spark jdbc\n",
    "url = \"jdbc:mysql://localhost:3306/libreria\"\n",
    "propiedades = {\n",
    "    \"driver\": \"com.mysql.cj.jdbc.Driver\",\n",
    "    \"user\": \"root\",\n",
    "    \"password\": \"tooR\"\n",
    "}"
   ]
  },
  {
   "cell_type": "code",
   "execution_count": 3,
   "metadata": {},
   "outputs": [
    {
     "name": "stdout",
     "output_type": "stream",
     "text": [
      "+---+---------+----------+-----------------+\n",
      "| id|   nombre|  apellido|cantidad_facturas|\n",
      "+---+---------+----------+-----------------+\n",
      "| 60|   Jarrod|      Dach|                5|\n",
      "| 46|   Forest|Jakubowski|                5|\n",
      "| 27|     Avis|    Beatty|                4|\n",
      "| 47|   Karlee|    Heller|                4|\n",
      "| 16|    Frank|      Will|                4|\n",
      "| 10|  Elliott|     Kulas|                4|\n",
      "| 18|  Candice|      Hane|                4|\n",
      "| 34|  Rodolfo|    Deckow|                3|\n",
      "| 52|   Turner|    Sporer|                3|\n",
      "| 13|    Aliya|     Marks|                3|\n",
      "|  4|   Reggie|   Schmitt|                3|\n",
      "| 23|    Ewald| VonRueden|                3|\n",
      "| 39|  Christa|    Marvin|                3|\n",
      "| 11|Cristobal|      Wiza|                3|\n",
      "| 30|    Ewell|   Hackett|                3|\n",
      "| 53|  Madison|    Schoen|                2|\n",
      "| 45|   Jaiden|Balistreri|                2|\n",
      "| 43| Emmanuel|Vandervort|                2|\n",
      "| 38|    Zaria|Schowalter|                2|\n",
      "| 36|     Amos|    Glover|                2|\n",
      "+---+---------+----------+-----------------+\n",
      "only showing top 20 rows\n",
      "\n"
     ]
    }
   ],
   "source": [
    "\n",
    "# Leemos la tabla factura de la base de datos librería\n",
    "factura_df = spark.read.jdbc(url=url, table=\"factura\", properties=propiedades)\n",
    "\n",
    "# Agrupamos la cantidad de facturas por el id del cliente\n",
    "cliente_cantidad_factura_df = factura_df.groupBy(\"id_cliente\").count()\n",
    "\n",
    "# Leemos los datos de la tabla cliente\n",
    "cliente_df = spark.read.jdbc(url=url, table=\"cliente\", properties=propiedades)\n",
    "\n",
    "# Unimos el dataframe cantidad_facturas_cliente_df con la tabla de cliente por medio del id del cliente\n",
    "cliente_cantidad_factura_df = cliente_cantidad_factura_df.join(\n",
    "    cliente_df,\n",
    "    cliente_df.id == cliente_cantidad_factura_df.id_cliente)\n",
    "\n",
    "# Seleccionamos solo la información necesaria: id del cliente, nombre, apellido, cantidad de facturas\n",
    "cliente_cantidad_factura_df = cliente_cantidad_factura_df.select(\n",
    "    col(\"id\"),\n",
    "    col(\"nombre\"),\n",
    "    col(\"apellido\"),\n",
    "    col(\"count\").alias(\"cantidad_facturas\")\n",
    ").orderBy(\"cantidad_facturas\", ascending=False)\n",
    "\n",
    "# Mostramos el dataframe cantidad_facturas_cliente_df, verificamos con una vista previa.\n",
    "cliente_cantidad_factura_df.show()"
   ]
  },
  {
   "cell_type": "code",
   "execution_count": null,
   "metadata": {},
   "outputs": [],
   "source": [
    "#Cargamos la informacion del dataframe cantidad_facturas_cliente_df en una tabla llamada cliente_cantidad_factura\n",
    "cliente_cantidad_factura_df.write.jdbc(\n",
    "    url=url, table=\"cliente_cantidad_factura\", mode=\"overwrite\", properties=propiedades)"
   ]
  }
 ],
 "metadata": {
  "kernelspec": {
   "display_name": "Python 3",
   "language": "python",
   "name": "python3"
  },
  "language_info": {
   "codemirror_mode": {
    "name": "ipython",
    "version": 3
   },
   "file_extension": ".py",
   "mimetype": "text/x-python",
   "name": "python",
   "nbconvert_exporter": "python",
   "pygments_lexer": "ipython3",
   "version": "3.11.2"
  }
 },
 "nbformat": 4,
 "nbformat_minor": 2
}
