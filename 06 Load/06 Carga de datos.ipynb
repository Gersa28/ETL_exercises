{
 "cells": [
  {
   "cell_type": "code",
   "execution_count": 2,
   "metadata": {},
   "outputs": [
    {
     "name": "stdout",
     "output_type": "stream",
     "text": [
      "+---------+----------+--------------------+\n",
      "|   nombre|  apellido|               email|\n",
      "+---------+----------+--------------------+\n",
      "|  Juanita|      Lind|juanitalind@test.com|\n",
      "|   George|  Weissnat|georgeweissnat@te...|\n",
      "|  Leilani| Langworth|leilanilangworth@...|\n",
      "|   Reggie|   Schmitt|reggieschmitt@tes...|\n",
      "|  Delores|    Rippin|deloresrippin@tes...|\n",
      "|    Guido|    Rogahn|guidorogahn@test.com|\n",
      "|  Delfina|  Schmeler|delfinaschmeler@t...|\n",
      "|      Lon|    Conroy|  lonconroy@test.com|\n",
      "|    Arden|    Schumm|ardenschumm@test.com|\n",
      "|  Elliott|     Kulas|elliottkulas@test...|\n",
      "|Cristobal|      Wiza|cristobalwiza@tes...|\n",
      "|   Marcia|     Davis|marciadavis@test.com|\n",
      "|    Aliya|     Marks| aliyamarks@test.com|\n",
      "|     Milo| Schneider|miloschneider@tes...|\n",
      "|     Shad| Bechtelar|shadbechtelar@tes...|\n",
      "|    Frank|      Will|  frankwill@test.com|\n",
      "|     Onie|Rutherford|onierutherford@te...|\n",
      "|  Candice|      Hane|candicehane@test.com|\n",
      "|   Duncan|   Leffler|duncanleffler@tes...|\n",
      "| Christop|     Olson|christopolson@tes...|\n",
      "+---------+----------+--------------------+\n",
      "only showing top 20 rows\n",
      "\n"
     ]
    }
   ],
   "source": [
    "# Librerías a importar\n",
    "from pyspark.sql import SparkSession\n",
    "\n",
    "# Crear la sesión de spark\n",
    "spark = SparkSession  \\\n",
    "    .builder \\\n",
    "    .appName(\"Unión de la tabla cliente y tabla empleado\") \\\n",
    "    .config('spark.driver.extraClassPath', \"mysql-connector-j-8.0.32.jar\") \\\n",
    "    .getOrCreate()\n",
    "\n",
    "# Propiedades para la conexión usando spark jdbc\n",
    "url = \"jdbc:mysql://localhost:3306/libreria\"\n",
    "properties = {\n",
    "    \"driver\": \"com.mysql.cj.jdbc.Driver\",\n",
    "    \"user\": \"root\",\n",
    "    \"password\": \"tooR\"\n",
    "}\n",
    "\n",
    "# Leemos los datos de la tabla cliente\n",
    "cliente_df = spark.read.jdbc(url=url, table=\"cliente\", properties=properties)\n",
    "cliente_df = cliente_df.drop(*[\"telefono\", \"id\"])\n",
    "\n",
    "# Leemos los datos de la tabla empleado\n",
    "empleado_df = spark.read.jdbc(url=url, table=\"empleado\", properties=properties)\n",
    "empleado_df = empleado_df.drop(\"id\")\n",
    "\n",
    "#Unimos las dos tablas cliente y empleado\n",
    "comunidad_df = cliente_df.union(empleado_df)\n",
    "\n",
    "# Mostramos el dataframe comunidad_df que contiene la información de los clientes y colaboradores\n",
    "comunidad_df.show()\n",
    "\n",
    "#Cargamos la informacion del dataframe comunidad_df en una tabla llamada comunidad\n",
    "comunidad_df.write.jdbc(\n",
    "    url=url, table=\"comunidad\", mode=\"overwrite\", properties=properties)"
   ]
  }
 ],
 "metadata": {
  "kernelspec": {
   "display_name": "Python 3",
   "language": "python",
   "name": "python3"
  },
  "language_info": {
   "codemirror_mode": {
    "name": "ipython",
    "version": 3
   },
   "file_extension": ".py",
   "mimetype": "text/x-python",
   "name": "python",
   "nbconvert_exporter": "python",
   "pygments_lexer": "ipython3",
   "version": "3.11.2"
  }
 },
 "nbformat": 4,
 "nbformat_minor": 2
}
