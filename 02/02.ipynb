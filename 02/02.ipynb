{
 "cells": [
  {
   "cell_type": "markdown",
   "metadata": {},
   "source": [
    "Consultar los datos de los LIBROS"
   ]
  },
  {
   "cell_type": "code",
   "execution_count": 1,
   "metadata": {},
   "outputs": [
    {
     "name": "stdout",
     "output_type": "stream",
     "text": [
      "+---+--------------------+-------------+----------+----------+-----------------+---------+\n",
      "| id|              titulo|total_paginas|puntuacion|      isbn|fecha_publicacion|id_editor|\n",
      "+---+--------------------+-------------+----------+----------+-----------------+---------+\n",
      "|  1| La octava dimensión|          182|      1.73|de3764836d|       2023-05-25|        3|\n",
      "|  2|     Draroc el bueno|          194|      2.59|ea4b81d719|       1986-01-13|        1|\n",
      "|  3|      León del dolor|          173|      2.76|ff890ca9a1|       2026-01-30|        2|\n",
      "|  4| Humano sin defectos|          235|      1.04|2e3c3a6ccf|       1998-02-26|        3|\n",
      "|  5|Piratas de la fel...|          205|      3.92|193c4d6156|       2010-07-31|        3|\n",
      "|  6|   Mujeres y piratas|          169|      3.50|355295e102|       2020-05-19|        4|\n",
      "|  7|       Raíz de plata|          181|      4.72|7dc6b5ba51|       2032-02-11|        3|\n",
      "|  8|    Visión de madera|          246|      4.10|85189d7028|       1993-04-28|        4|\n",
      "|  9|Bailando en el un...|          239|      1.34|6404c1b0d4|       2036-05-19|        1|\n",
      "| 10|Batalla de mis am...|          205|      1.41|43ddfe6db7|       2027-10-14|        2|\n",
      "| 11|Caballero de los ...|          160|      2.03|a9cbb7022f|       1991-09-22|        4|\n",
      "| 12|Duque de los desa...|          234|      4.91|e2a0226d9a|       1973-04-25|        2|\n",
      "| 13|  Brujas de la noche|          238|      1.44|4a5744e589|       1989-06-15|        4|\n",
      "| 14|  Enemigos con vigor|          241|      3.50|e2a9f028ba|       1989-04-13|        2|\n",
      "| 15| Aquel primer verano|          238|      4.17|f3c9a0ba69|       2008-01-17|        4|\n",
      "| 16|      Gatos y dioses|          220|      1.37|dba2a3f3dc|       2034-04-27|        1|\n",
      "| 17|Creadores y hered...|          236|      1.31|f490a3640e|       1973-04-25|        2|\n",
      "| 18|Aguja del próximo...|          169|      1.45|5f7c864ead|       1997-10-09|        3|\n",
      "| 19|  Unidad de grandeza|          188|      2.33|a628161273|       2030-11-10|        4|\n",
      "| 20| Gritos en mi pasado|          181|      2.29|2d83098a87|       1986-10-30|        3|\n",
      "+---+--------------------+-------------+----------+----------+-----------------+---------+\n",
      "only showing top 20 rows\n",
      "\n"
     ]
    }
   ],
   "source": [
    "# Librerías a importar\n",
    "from pyspark.sql import SparkSession\n",
    "\n",
    "# Crear la sesión de spark\n",
    "spark = SparkSession  \\\n",
    "    .builder \\\n",
    "    .appName(\"Motrar los libros de nuestra base de datos Librería\") \\\n",
    "    .config('spark.driver.extraClassPath', \"mysql-connector-j-8.0.32.jar\") \\\n",
    "    .getOrCreate()\n",
    "\n",
    "# Propiedades para la conexión usando spark jdbc\n",
    "url = \"jdbc:mysql://localhost:3306/libreria\"\n",
    "propiedades = {\n",
    "    \"driver\": \"com.mysql.cj.jdbc.Driver\",\n",
    "    \"user\": \"root\",\n",
    "    \"password\": \"tooR\"\n",
    "}\n",
    "\n",
    "# Leemos la tabla libro de la base de datos librería\n",
    "libro_df = spark.read.jdbc(url=url, table=\"libro\", properties=propiedades)\n",
    "\n",
    "# Se muestra en pantalla los libros que tenemos\n",
    "libro_df.show()"
   ]
  }
 ],
 "metadata": {
  "kernelspec": {
   "display_name": "Python 3",
   "language": "python",
   "name": "python3"
  },
  "language_info": {
   "codemirror_mode": {
    "name": "ipython",
    "version": 3
   },
   "file_extension": ".py",
   "mimetype": "text/x-python",
   "name": "python",
   "nbconvert_exporter": "python",
   "pygments_lexer": "ipython3",
   "version": "3.11.2"
  }
 },
 "nbformat": 4,
 "nbformat_minor": 2
}
