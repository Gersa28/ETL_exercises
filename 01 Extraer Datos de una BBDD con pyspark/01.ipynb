{
 "cells": [
  {
   "cell_type": "code",
   "execution_count": 1,
   "metadata": {},
   "outputs": [],
   "source": [
    "# Primero se deberá crear la BBDD\n",
    "# Librerías a importar\n",
    "from pyspark.sql import SparkSession"
   ]
  },
  {
   "cell_type": "code",
   "execution_count": 2,
   "metadata": {},
   "outputs": [],
   "source": [
    "# Crear la sesión de spark\n",
    "spark = SparkSession  \\\n",
    "    .builder \\\n",
    "    .appName(\"Motrar los clientes de nuestra base de datos Librería\") \\\n",
    "    .config('spark.driver.extraClassPath', \"mysql-connector-j-8.0.32.jar\") \\\n",
    "    .getOrCreate()"
   ]
  },
  {
   "cell_type": "code",
   "execution_count": 3,
   "metadata": {},
   "outputs": [],
   "source": [
    "# Propiedades para la conexión usando spark jdbc\n",
    "url = \"jdbc:mysql://localhost:3306/libreria\"\n",
    "propiedades = {\n",
    "    \"driver\": \"com.mysql.cj.jdbc.Driver\",\n",
    "    \"user\": \"root\",\n",
    "    \"password\": \"tooR\"\n",
    "}"
   ]
  },
  {
   "cell_type": "code",
   "execution_count": 4,
   "metadata": {},
   "outputs": [
    {
     "name": "stdout",
     "output_type": "stream",
     "text": [
      "+---+---------+----------+--------------------+--------------------+\n",
      "| id|   nombre|  apellido|            telefono|               email|\n",
      "+---+---------+----------+--------------------+--------------------+\n",
      "|  1|  Juanita|      Lind|(123) 8592-2238     |juanitalind@test.com|\n",
      "|  2|   George|  Weissnat|(123) 6599-8313     |georgeweissnat@te...|\n",
      "|  3|  Leilani| Langworth|(123) 3376-7786     |leilanilangworth@...|\n",
      "|  4|   Reggie|   Schmitt|(123) 1886-6216     |reggieschmitt@tes...|\n",
      "|  5|  Delores|    Rippin|(123) 9976-1342     |deloresrippin@tes...|\n",
      "|  6|    Guido|    Rogahn|(123) 4357-9648     |guidorogahn@test.com|\n",
      "|  7|  Delfina|  Schmeler|(123) 3819-7691     |delfinaschmeler@t...|\n",
      "|  8|      Lon|    Conroy|(123) 9585-9496     |  lonconroy@test.com|\n",
      "|  9|    Arden|    Schumm|(123) 1197-5529     |ardenschumm@test.com|\n",
      "| 10|  Elliott|     Kulas|(123) 1748-9216     |elliottkulas@test...|\n",
      "| 11|Cristobal|      Wiza|(123) 5681-8953     |cristobalwiza@tes...|\n",
      "| 12|   Marcia|     Davis|(123) 9293-6426     |marciadavis@test.com|\n",
      "| 13|    Aliya|     Marks|(123) 1893-4467     | aliyamarks@test.com|\n",
      "| 14|     Milo| Schneider|(123) 3997-7463     |miloschneider@tes...|\n",
      "| 15|     Shad| Bechtelar|(123) 5257-4753     |shadbechtelar@tes...|\n",
      "| 16|    Frank|      Will|(123) 2384-5446     |  frankwill@test.com|\n",
      "| 17|     Onie|Rutherford|(123) 7943-2934     |onierutherford@te...|\n",
      "| 18|  Candice|      Hane|(123) 6413-1663     |candicehane@test.com|\n",
      "| 19|   Duncan|   Leffler|(123) 2176-6559     |duncanleffler@tes...|\n",
      "| 20| Christop|     Olson|(123) 8922-2453     |christopolson@tes...|\n",
      "+---+---------+----------+--------------------+--------------------+\n",
      "only showing top 20 rows\n",
      "\n"
     ]
    }
   ],
   "source": [
    "# Leemos los datos de la tabla cliente\n",
    "cliente_df = spark.read.jdbc(url=url, table=\"cliente\", properties=propiedades) # Las properties las declaramos en el bloque anterior\n",
    "\n",
    "# Se muestra en pantalla los clientes que tenemos\n",
    "cliente_df.show()"
   ]
  }
 ],
 "metadata": {
  "kernelspec": {
   "display_name": "Python 3",
   "language": "python",
   "name": "python3"
  },
  "language_info": {
   "codemirror_mode": {
    "name": "ipython",
    "version": 3
   },
   "file_extension": ".py",
   "mimetype": "text/x-python",
   "name": "python",
   "nbconvert_exporter": "python",
   "pygments_lexer": "ipython3",
   "version": "3.11.2"
  }
 },
 "nbformat": 4,
 "nbformat_minor": 2
}
