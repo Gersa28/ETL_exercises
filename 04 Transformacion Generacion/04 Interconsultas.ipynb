{
 "cells": [
  {
   "cell_type": "code",
   "execution_count": 1,
   "metadata": {},
   "outputs": [],
   "source": [
    "# Librerías a importar\n",
    "from pyspark.sql import SparkSession\n",
    "from pyspark.sql.functions import col\n",
    "\n",
    "# Crear la sesión de spark\n",
    "spark = SparkSession  \\\n",
    "    .builder \\\n",
    "    .appName(\"El total de ventas por libro\") \\\n",
    "    .config('spark.driver.extraClassPath', \"mysql-connector-j-8.0.32.jar\") \\\n",
    "    .getOrCreate()\n",
    "\n",
    "# Propiedades para la conexión usando spark jdbc\n",
    "url = \"jdbc:mysql://localhost:3306/libreria\"\n",
    "propiedades = {\n",
    "    \"driver\": \"com.mysql.cj.jdbc.Driver\",\n",
    "    \"user\": \"root\",\n",
    "    \"password\": \"tooR\"\n",
    "}"
   ]
  },
  {
   "cell_type": "code",
   "execution_count": 2,
   "metadata": {},
   "outputs": [
    {
     "name": "stdout",
     "output_type": "stream",
     "text": [
      "+--------------------+------------+\n",
      "|              titulo|total_ventas|\n",
      "+--------------------+------------+\n",
      "|           La jungla|      303.09|\n",
      "|Batalla de mis am...|      295.71|\n",
      "| Sonidos en el vacío|      284.21|\n",
      "|     Diosa sin honor|      246.08|\n",
      "|     Agente de plata|      242.46|\n",
      "| Trono con esperanza|      241.43|\n",
      "|Soldados del infi...|      232.19|\n",
      "|      Amigos y búhos|      231.58|\n",
      "| La octava dimensión|      226.57|\n",
      "|   Mujeres y piratas|      224.67|\n",
      "| Comer en los barcos|      219.22|\n",
      "|Duque de los desa...|      210.45|\n",
      "| Oficiales de gloria|      196.18|\n",
      "|Caballero de los ...|      195.16|\n",
      "|      Gatos y dioses|      193.21|\n",
      "|Gigante de la esp...|      184.83|\n",
      "|  Brujas de la noche|      178.65|\n",
      "|Alterando a los á...|      175.67|\n",
      "|Estafador con org...|      151.14|\n",
      "|Oponente de la ut...|      147.08|\n",
      "+--------------------+------------+\n",
      "only showing top 20 rows\n",
      "\n"
     ]
    }
   ],
   "source": [
    "# Leemos la tabla detalle_factura de la base de datos librería\n",
    "detalle_factura_df = spark.read.jdbc(\n",
    "    url=url, table=\"detalle_factura\", properties=propiedades)\n",
    "\n",
    "# Leemos la tabla libro de la base de datos librería\n",
    "libro_df = spark.read.jdbc(url=url, table=\"libro\", properties=propiedades)\n",
    "\n",
    "# Creamos una nueva columna que contiene el total vendido por cada registro del dataframe, \n",
    "# donde se multiplican la columna \"cantidad\" con \"precio_unitario\" del dataframe detalle_factura_df\n",
    "detalle_factura_df = detalle_factura_df.withColumn(\n",
    "    \"total\", detalle_factura_df.cantidad * detalle_factura_df.precio_unitario)\n",
    "\n",
    "# Agrupamos el total de ventas por el id del libro\n",
    "total_vendido_libro = detalle_factura_df.groupBy(\"id_libro\").sum(\"total\")\n",
    "\n",
    "# Unimos la tabla detalle_factura con la tabla de libro por medio del id del libro\n",
    "total_vendido_libro = total_vendido_libro.join(\n",
    "    libro_df, libro_df.id == total_vendido_libro.id_libro)\n",
    "\n",
    "# Mostramos solo la información necesaria: título y total vendido.\n",
    "total_vendido_libro = total_vendido_libro.select(\n",
    "    col(\"titulo\"),\n",
    "    col(\"sum(total)\").alias(\"total_ventas\")\n",
    ").orderBy(\"total_ventas\", ascending=False)\n",
    "\n",
    "# Mostramos el dataframe total_vendido_libro\n",
    "total_vendido_libro.show()"
   ]
  }
 ],
 "metadata": {
  "kernelspec": {
   "display_name": "Python 3",
   "language": "python",
   "name": "python3"
  },
  "language_info": {
   "codemirror_mode": {
    "name": "ipython",
    "version": 3
   },
   "file_extension": ".py",
   "mimetype": "text/x-python",
   "name": "python",
   "nbconvert_exporter": "python",
   "pygments_lexer": "ipython3",
   "version": "3.11.2"
  }
 },
 "nbformat": 4,
 "nbformat_minor": 2
}
